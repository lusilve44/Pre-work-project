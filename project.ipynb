{
 "cells": [
  {
   "cell_type": "markdown",
   "id": "c4e52ee5",
   "metadata": {},
   "source": [
    "## The dataset\n",
    "\n",
    "This is a real dataset and it was downloaded using web scraping techniques. The data contains registers from fotocasa which is one of the most popular websites of real estate in Spain. Please, do not do this (web scraping) unless it is for academic purposes.\n",
    "\n",
    "The dataset was downloaded a few years ago by Henry Navarro and In no case were economic returns obtained from it.\n",
    "\n",
    "It contains thousands of data from real homes published on the web www.fotocasa.com. Your goal is to extract as much information as possible with the knowledge you have so far about data science, for example what is the most expensive home in the entire dataset?\n",
    "\n",
    "Let's start with precisely that question... Good luck!\n"
   ]
  },
  {
   "cell_type": "markdown",
   "id": "dd97255d",
   "metadata": {},
   "source": [
    "#### Read the dataset assets/real_estate.csv and try to visualize the table (★☆☆)"
   ]
  },
  {
   "cell_type": "code",
   "execution_count": 2,
   "id": "4b93d9c8",
   "metadata": {},
   "outputs": [],
   "source": [
    "import numpy as np\n",
    "import pandas as pd\n",
    "import matplotlib.pyplot as plt\n",
    "\n",
    "df = pd.read_csv(\"./assets/real_estate.csv\", sep=\";\")\n",
    "#df.shape == (15335, 37)"
   ]
  },
  {
   "cell_type": "markdown",
   "id": "40631cd6",
   "metadata": {},
   "source": [
    "#### What is the most expensive home in the dataset? (★☆☆)"
   ]
  },
  {
   "cell_type": "code",
   "execution_count": 3,
   "id": "8a758bcf",
   "metadata": {},
   "outputs": [
    {
     "name": "stdout",
     "output_type": "stream",
     "text": [
      "The most expensive home in the dataset costs 8500000\n"
     ]
    }
   ],
   "source": [
    "most_exp_home = df.loc[df['price'].idxmax()]\n",
    "print(f'The most expensive home in the dataset costs {most_exp_home[\"price\"]}')"
   ]
  },
  {
   "cell_type": "markdown",
   "id": "0a708990",
   "metadata": {},
   "source": [
    "#### What is cheapest home in the dataset? (★☆☆)"
   ]
  },
  {
   "cell_type": "code",
   "execution_count": 4,
   "id": "477e01f4",
   "metadata": {},
   "outputs": [
    {
     "name": "stdout",
     "output_type": "stream",
     "text": [
      "The cheapest home in the dataset costs 0\n"
     ]
    }
   ],
   "source": [
    "cheapest_home = df.loc[df['price'].idxmin()]\n",
    "print(f'The cheapest home in the dataset costs {cheapest_home[\"price\"]}')"
   ]
  },
  {
   "cell_type": "markdown",
   "id": "0b16cd77",
   "metadata": {},
   "source": [
    "#### What is the biggest and the smallest home in the dataset? (★☆☆)"
   ]
  },
  {
   "cell_type": "code",
   "execution_count": 5,
   "id": "4d9b5975",
   "metadata": {},
   "outputs": [
    {
     "name": "stdout",
     "output_type": "stream",
     "text": [
      "The biggest home in the dataset has a surface of 249000.0 m2\n",
      "The smallest home in the dataset has a surface of 15.0 m2\n"
     ]
    }
   ],
   "source": [
    "biggest_home = df.loc[df['surface'].idxmax()]\n",
    "smallest_home = df.loc[df['surface'].idxmin()]\n",
    "\n",
    "print(f'The biggest home in the dataset has a surface of {biggest_home[\"surface\"]} m2')\n",
    "print(f'The smallest home in the dataset has a surface of {smallest_home[\"surface\"]} m2')"
   ]
  },
  {
   "cell_type": "markdown",
   "id": "782d4c77",
   "metadata": {},
   "source": [
    "#### How many populations (level5) the dataset contains? (★☆☆)"
   ]
  },
  {
   "cell_type": "code",
   "execution_count": 6,
   "id": "5dbe1a08",
   "metadata": {},
   "outputs": [
    {
     "name": "stdout",
     "output_type": "stream",
     "text": [
      "There are 168 populations in the dataset\n"
     ]
    }
   ],
   "source": [
    "total_of_populations = len(df['level5'].unique())\n",
    "print(f'There are {total_of_populations} populations in the dataset')"
   ]
  },
  {
   "cell_type": "markdown",
   "id": "48d48f01",
   "metadata": {},
   "source": [
    "#### Does the dataset contain NAs? (★☆☆)\n"
   ]
  },
  {
   "cell_type": "code",
   "execution_count": 7,
   "id": "3ed233e7",
   "metadata": {},
   "outputs": [
    {
     "name": "stdout",
     "output_type": "stream",
     "text": [
      "The dataset contains NAs\n"
     ]
    }
   ],
   "source": [
    "are_there_nas = df.isnull().values.any()\n",
    "print('The dataset contains NAs')"
   ]
  },
  {
   "cell_type": "markdown",
   "id": "4fa39382",
   "metadata": {},
   "source": [
    "#### Delete the NAs of the dataset, if applicable (★★☆)"
   ]
  },
  {
   "cell_type": "code",
   "execution_count": 8,
   "id": "c97757ec",
   "metadata": {},
   "outputs": [],
   "source": [
    "#the columns zipCode and customZone only contains NAs so we procede to delete them\n",
    "zipCode_column_all_NA = df['zipCode'].isnull().values.all()\n",
    "customZone_column_all_NA = df['customZone'].isnull().values.all()\n",
    "\n",
    "df = df.dropna(axis=1, how='all')\n",
    "\n",
    "#There are rows with specific values that are NAs but there are not going to be deleted"
   ]
  },
  {
   "cell_type": "markdown",
   "id": "0e5f76de",
   "metadata": {},
   "source": [
    "#### What is the mean of prices in the population (level5) of \"Arroyomolinos (Madrid)\"? (★★☆)"
   ]
  },
  {
   "cell_type": "code",
   "execution_count": 9,
   "id": "327f7adb",
   "metadata": {},
   "outputs": [
    {
     "name": "stdout",
     "output_type": "stream",
     "text": [
      "The mean of prices in the population of Arroyomolinos is 294541.59854014596\n"
     ]
    }
   ],
   "source": [
    "mean_price_arroyomolinos = df['price'][df['level5'] == 'Arroyomolinos (Madrid)'].mean()\n",
    "print(f'The mean of prices in the population of Arroyomolinos is {mean_price_arroyomolinos}')"
   ]
  },
  {
   "cell_type": "markdown",
   "id": "89b548e3",
   "metadata": {},
   "source": [
    "#### Plot the histogram of prices for the population (level5) of \"Arroyomolinos (Madrid)\" and explain what you observe (★★☆)"
   ]
  },
  {
   "cell_type": "code",
   "execution_count": 10,
   "id": "2ba51bf7",
   "metadata": {},
   "outputs": [
    {
     "name": "stdout",
     "output_type": "stream",
     "text": [
      "The mayority of the prices are around the mean calculated previously, looking like a normal distribution\n"
     ]
    },
    {
     "data": {
      "image/png": "[encoded data removed]",
      "text/plain": [
       "<Figure size 432x288 with 1 Axes>"
      ]
     },
     "metadata": {
      "needs_background": "light"
     },
     "output_type": "display_data"
    }
   ],
   "source": [
    "prices_arroyomolinos = df['price'][df['level5'] == 'Arroyomolinos (Madrid)'].values\n",
    "plt.hist(prices_arroyomolinos, bins = 50)\n",
    "print('The mayority of the prices are around the mean calculated previously, looking somehow like a normal distribution')"
   ]
  },
  {
   "cell_type": "markdown",
   "id": "c86dc493",
   "metadata": {},
   "source": [
    "#### Now let's work with the \"south belt\" of madrid. Make a subsetting that contains the following populations (level5): \"Fuenlabrada\",\"Leganés\",\"Getafe\",\"Alcorcón\" (★★☆) "
   ]
  },
  {
   "cell_type": "code",
   "execution_count": 11,
   "id": "5280d0cb",
   "metadata": {},
   "outputs": [],
   "source": [
    "populations = np.array(['Fuenlabrada', 'Leganés', 'Getafe', 'Alcorcón'])\n",
    "\n",
    "bool_array = np.where((df['level5'] == populations[0]) | (df['level5'] == populations[1]) | (df['level5'] == populations[2]) | (df['level5'] == populations[3]))\n",
    "south_belt = df.loc[bool_array]\n",
    "# south_belt.shape == (907, 35)"
   ]
  },
  {
   "cell_type": "markdown",
   "id": "090a6a3e",
   "metadata": {},
   "source": [
    "#### Make a bar plot of the median of prices (★★★) "
   ]
  },
  {
   "cell_type": "code",
   "execution_count": 12,
   "id": "68aec11c",
   "metadata": {},
   "outputs": [
    {
     "data": {
      "text/plain": [
       "<BarContainer object of 4 artists>"
      ]
     },
     "execution_count": 12,
     "metadata": {},
     "output_type": "execute_result"
    },
    {
     "data": {
      "image/png": "[encoded data removed]",
      "text/plain": [
       "<Figure size 432x288 with 1 Axes>"
      ]
     },
     "metadata": {
      "needs_background": "light"
     },
     "output_type": "display_data"
    }
   ],
   "source": [
    "mean_prices = np.empty(4)\n",
    "\n",
    "for population in populations:\n",
    "    mean_prices[np.where(populations == population)] = (south_belt['price'][south_belt['level5'] == population].mean())\n",
    "\n",
    "plt.bar(populations, mean_prices)"
   ]
  },
  {
   "cell_type": "markdown",
   "id": "18f67373",
   "metadata": {},
   "source": [
    "#### Calculate the sample mean and variance of the variables: price, rooms, surface area and bathrooms (★★★) "
   ]
  },
  {
   "cell_type": "code",
   "execution_count": 25,
   "id": "8d068061",
   "metadata": {},
   "outputs": [
    {
     "name": "stdout",
     "output_type": "stream",
     "text": [
      "Mean price: 223094.48070562293, Variance price: 14921367508.04902\n",
      "Mean price: 3.0177383592017737, Variance price: 0.7188858892927542\n",
      "Mean price: 111.75222363405337, Variance price: 4263.051760316337\n",
      "Mean price: 1.633221850613155, Variance price: 0.5717968625577321\n"
     ]
    }
   ],
   "source": [
    "means = np.empty(4)\n",
    "vars = np.empty(4)\n",
    "variables = np.array(['price', 'rooms', 'surface', 'bathrooms'])\n",
    "\n",
    "for variable in variables:\n",
    "    means[np.where(variables == variable)] = south_belt[variable].mean()\n",
    "    vars[np.where(variables == variable)] = south_belt[variable].var()\n",
    "\n",
    "for i in range(4):\n",
    "    print(f'Mean price: {means[i]}, Variance price: {vars[i]}')"
   ]
  },
  {
   "cell_type": "markdown",
   "id": "95cfde61",
   "metadata": {},
   "source": [
    "#### What is the most expensive home of each population? (★★☆) "
   ]
  },
  {
   "cell_type": "code",
   "execution_count": 14,
   "id": "1c29f78c",
   "metadata": {},
   "outputs": [
    {
     "name": "stdout",
     "output_type": "stream",
     "text": [
      "Most expensive home of Fuenlabrada costs: 490000\n",
      "Most expensive home of Leganés costs: 650000\n",
      "Most expensive home of Getafe costs: 1050000\n",
      "Most expensive home of Alcorcón costs: 950000\n"
     ]
    }
   ],
   "source": [
    "most_exp_homes = np.empty(4, dtype=int)\n",
    "\n",
    "for population in populations:\n",
    "    population_data = south_belt[south_belt['level5'] == population]\n",
    "    most_exp_homes[np.where(populations == population)] = population_data.loc[population_data['price'].idxmax()]['price']\n",
    "\n",
    "for i in range(4):\n",
    "    print(f'Most expensive home of {populations[i]} costs: {most_exp_homes[i]}')"
   ]
  },
  {
   "cell_type": "markdown",
   "id": "ea67579b",
   "metadata": {},
   "source": [
    "#### Normalize the variable of prices for each population and plot the 4 histograms in the same plot (★★★) "
   ]
  },
  {
   "cell_type": "code",
   "execution_count": 15,
   "id": "385ad99c",
   "metadata": {},
   "outputs": [
    {
     "data": {
      "image/png": "[encoded data removed]",
      "text/plain": [
       "<Figure size 432x288 with 4 Axes>"
      ]
     },
     "metadata": {
      "needs_background": "light"
     },
     "output_type": "display_data"
    }
   ],
   "source": [
    "def normalized_prices(population, position):\n",
    "    population_data = south_belt['price'][south_belt['level5'] == population]\n",
    "    max_price = population_data.loc[population_data.idxmax()]\n",
    "    min_price = population_data.loc[population_data.idxmin()]\n",
    "    normalized = (population_data - min_price)/(max_price - min_price)\n",
    "    plt.subplot(2, 2, position)\n",
    "    plt.hist(normalized)\n",
    "    plt.title(population)\n",
    "\n",
    "for population in populations:\n",
    "    normalized_prices(population, int(np.where(populations == population)[0] + 1))"
   ]
  },
  {
   "cell_type": "markdown",
   "id": "2ec1bd5c",
   "metadata": {},
   "source": [
    "#### Make a plot of the coordinates (lat and long) of the south belt of Madrid by color of each population (★★★★) \n",
    "This is a extremely hard exercise and we highly recommend to do it at the end of everything"
   ]
  },
  {
   "cell_type": "code",
   "execution_count": 16,
   "id": "312aac99",
   "metadata": {},
   "outputs": [
    {
     "data": {
      "application/vnd.jupyter.widget-view+json": {
       "model_id": "e1ba27f3ecf34522a8238e4a71884b94",
       "version_major": 2,
       "version_minor": 0
      },
      "text/plain": [
       "Map(center=[60, -2.2], controls=(ZoomControl(options=['position', 'zoom_in_text', 'zoom_in_title', 'zoom_out_t…"
      ]
     },
     "metadata": {},
     "output_type": "display_data"
    }
   ],
   "source": [
    "# Run in console the following command before run the rest of code:\n",
    "# jupyter nbextension enable --py --sys-prefix ipyleaflet\n",
    "\n",
    "from ipyleaflet import Map, basemaps\n",
    "\n",
    "# Map centred on (60 degrees latitude et -2.2 degrees longitude)\n",
    "# Latitude, longitude\n",
    "map = Map(center = (60, -2.2), zoom = 2, min_zoom = 1, max_zoom = 20, \n",
    "    basemap=basemaps.Stamen.Terrain)\n",
    "map"
   ]
  },
  {
   "cell_type": "code",
   "execution_count": 17,
   "id": "f7931ec0",
   "metadata": {},
   "outputs": [
    {
     "data": {
      "image/png": "[encoded data removed]",
      "text/plain": [
       "<Figure size 432x288 with 1 Axes>"
      ]
     },
     "metadata": {
      "needs_background": "light"
     },
     "output_type": "display_data"
    }
   ],
   "source": [
    "## HERE: plot the coordinates of the estates\n",
    "\n",
    "## PUT HERE YOUR CODE:\n",
    "\n",
    "fig, ax = plt.subplots()\n",
    "\n",
    "latitudes = np.empty(4)\n",
    "longitudes = np.empty(4)\n",
    "\n",
    "for population in populations:\n",
    "    coordinates = south_belt[['latitude','longitude']][south_belt['level5'] == population].iloc[0]\n",
    "    latitudes[np.where(populations == population)] = float(coordinates['latitude'].replace(',', '.'))\n",
    "    longitudes[np.where(populations == population)] = float(coordinates['longitude'].replace(',', '.'))\n",
    "\n",
    "for i in range(4):\n",
    "    ax.scatter(longitudes[i], latitudes[i])\n",
    "    ax.annotate(populations[i], (longitudes[i], latitudes[i]))\n"
   ]
  },
  {
   "cell_type": "markdown",
   "id": "b22874b7",
   "metadata": {},
   "source": [
    "#### What can you say about the price per square meter between the towns of Getafe and Alcorcón?"
   ]
  },
  {
   "cell_type": "code",
   "execution_count": 18,
   "id": "e0ef506b",
   "metadata": {},
   "outputs": [
    {
     "name": "stdout",
     "output_type": "stream",
     "text": [
      "The price/m2 of Alcorcon is greater than the price/m2 of Getafe\n"
     ]
    },
    {
     "data": {
      "image/png": "[encoded data removed]",
      "text/plain": [
       "<Figure size 432x288 with 1 Axes>"
      ]
     },
     "metadata": {
      "needs_background": "light"
     },
     "output_type": "display_data"
    }
   ],
   "source": [
    "mean_price_getafe = south_belt['price'][south_belt['level5'] == populations[2]].mean()\n",
    "mean_price_alcorcon = south_belt['price'][south_belt['level5'] == populations[3]].mean()\n",
    "\n",
    "mean_surface_getafe = south_belt['surface'][south_belt['level5'] == populations[2]].mean()\n",
    "mean_surface_alcorcon = south_belt['surface'][south_belt['level5'] == populations[3]].mean()\n",
    "\n",
    "price_m2_getafe = mean_price_getafe / mean_surface_getafe\n",
    "price_m2_alcorcon = mean_price_alcorcon / mean_surface_alcorcon\n",
    "\n",
    "plt.bar(populations[2:], [price_m2_getafe, price_m2_alcorcon])\n",
    "plt.text(populations[2], price_m2_getafe, price_m2_getafe)\n",
    "plt.text(populations[3], price_m2_alcorcon, price_m2_alcorcon)\n",
    "\n",
    "print('The price/m2 of Alcorcon is greater than the price/m2 of Getafe')"
   ]
  },
  {
   "cell_type": "markdown",
   "id": "a4376b3f",
   "metadata": {},
   "source": [
    "#### Reload the data, is the average of \"Valdemorillo\" and \"Galapagar\" prices the same?"
   ]
  },
  {
   "cell_type": "code",
   "execution_count": 19,
   "id": "37dbaf65",
   "metadata": {},
   "outputs": [
    {
     "name": "stdout",
     "output_type": "stream",
     "text": [
      "The average price of Valdemorillo is greater than the average price of Galapagar\n"
     ]
    },
    {
     "data": {
      "image/png": "[encoded data removed]",
      "text/plain": [
       "<Figure size 432x288 with 1 Axes>"
      ]
     },
     "metadata": {
      "needs_background": "light"
     },
     "output_type": "display_data"
    }
   ],
   "source": [
    "#as long as there are no specified weights for the values, .mean() and .average() return the same value\n",
    "\n",
    "mean_price_valdemorillo = df['price'][df['level5'] == 'Valdemorillo'].mean()\n",
    "mean_price_galapagar = df['price'][df['level5'] == 'Galapagar'].mean()\n",
    "\n",
    "plt.bar(['Valdemorillo', 'Galapagar'], [mean_price_valdemorillo, mean_price_galapagar])\n",
    "plt.text('Valdemorillo', mean_price_valdemorillo, mean_price_valdemorillo)\n",
    "plt.text('Galapagar', mean_price_galapagar, mean_price_galapagar)\n",
    "print('The average price of Valdemorillo is greater than the average price of Galapagar')"
   ]
  },
  {
   "cell_type": "markdown",
   "id": "b6af45ec",
   "metadata": {},
   "source": [
    "#### What happens if we do the same analysis for price/m2 (★★☆) "
   ]
  },
  {
   "cell_type": "code",
   "execution_count": 20,
   "id": "8231d73e",
   "metadata": {},
   "outputs": [
    {
     "name": "stdout",
     "output_type": "stream",
     "text": [
      "The price/m2 of Galapagar is greater than the price/m2 of Valdemorillo\n"
     ]
    },
    {
     "data": {
      "image/png": "[encoded data removed]",
      "text/plain": [
       "<Figure size 432x288 with 1 Axes>"
      ]
     },
     "metadata": {
      "needs_background": "light"
     },
     "output_type": "display_data"
    }
   ],
   "source": [
    "mean_surface_valdemorillo = df['surface'][df['level5'] == 'Valdemorillo'].mean()\n",
    "mean_surface_galapagar = df['surface'][df['level5'] == 'Galapagar'].mean()\n",
    "\n",
    "price_m2_valdemorillo = mean_price_valdemorillo / mean_surface_valdemorillo\n",
    "price_m2_galapagar = mean_price_galapagar / mean_surface_galapagar\n",
    "\n",
    "plt.bar(['Valdemorillo', 'Galapagar'], [price_m2_valdemorillo, price_m2_galapagar])\n",
    "plt.text('Valdemorillo', price_m2_valdemorillo, price_m2_valdemorillo)\n",
    "plt.text('Galapagar', price_m2_galapagar, price_m2_galapagar)\n",
    "print('The price/m2 of Galapagar is greater than the price/m2 of Valdemorillo')"
   ]
  },
  {
   "cell_type": "markdown",
   "id": "2d40e202",
   "metadata": {},
   "source": [
    "#### Could you say there is a relation between surface and price? (★★☆) \n",
    "Hint: make a scatter plot."
   ]
  },
  {
   "cell_type": "code",
   "execution_count": 26,
   "id": "405462e1",
   "metadata": {},
   "outputs": [
    {
     "name": "stdout",
     "output_type": "stream",
     "text": [
      "At first sight there is no corelation between surface and price. However, it could be said that the price increaces with the increase of the surface exponentially\n"
     ]
    },
    {
     "data": {
      "image/png": "[encoded data removed]",
      "text/plain": [
       "<Figure size 432x288 with 1 Axes>"
      ]
     },
     "metadata": {
      "needs_background": "light"
     },
     "output_type": "display_data"
    }
   ],
   "source": [
    "price = df['price'][df['level5'] == 'Valdemorillo']\n",
    "surface = df['surface'][df['level5'] == 'Valdemorillo']\n",
    "plt.scatter(price, surface)\n",
    "print('At first sight there is no corelation between surface and price. However, it could be said that the price increaces with the increase of the surface')"
   ]
  },
  {
   "cell_type": "markdown",
   "id": "3275db77",
   "metadata": {},
   "source": [
    "#### Make the same plot for 4 different populations (level5) and rearrange them on the same graph? (★★☆) \n",
    "Hint: make a scatter plot of each population using subplots."
   ]
  },
  {
   "cell_type": "code",
   "execution_count": 22,
   "id": "e08292ff",
   "metadata": {},
   "outputs": [
    {
     "name": "stdout",
     "output_type": "stream",
     "text": [
      "I will work with ['Fuenlabrada' 'Leganés' 'Getafe' 'Alcorcón']\n",
      "\n"
     ]
    },
    {
     "data": {
      "image/png": "[encoded data removed]",
      "text/plain": [
       "<Figure size 432x288 with 4 Axes>"
      ]
     },
     "metadata": {
      "needs_background": "light"
     },
     "output_type": "display_data"
    }
   ],
   "source": [
    "print(f'I will work with {populations}')\n",
    "\n",
    "def relation_price_surface(population, position):\n",
    "    population_data_price = south_belt['price'][south_belt['level5'] == population]\n",
    "    population_data_surface = south_belt['surface'][south_belt['level5'] == population]\n",
    "    plt.subplot(2, 2, position)\n",
    "    plt.scatter(population_data_price, population_data_surface)\n",
    "    plt.title(population)\n",
    "\n",
    "for population in populations:\n",
    "    relation_price_surface(population, int(np.where(populations == population)[0] + 1))   "
   ]
  },
  {
   "cell_type": "markdown",
   "id": "522c6bd9",
   "metadata": {},
   "source": [
    "#### How many  real estate agencies the dataset contains? (★★☆) "
   ]
  },
  {
   "cell_type": "code",
   "execution_count": 23,
   "id": "014ec6c8",
   "metadata": {},
   "outputs": [
    {
     "name": "stdout",
     "output_type": "stream",
     "text": [
      "There are 1822 real estate agencies in the dataset\n"
     ]
    }
   ],
   "source": [
    "total_of_agencies = len(df['realEstate_name'].unique())\n",
    "print(f'There are {total_of_agencies} real estate agencies in the dataset')"
   ]
  },
  {
   "cell_type": "markdown",
   "id": "899a101e",
   "metadata": {},
   "source": [
    "#### What is the population (level 5) that contains the most houses? (★★☆) "
   ]
  },
  {
   "cell_type": "code",
   "execution_count": 24,
   "id": "9e8b34ba",
   "metadata": {},
   "outputs": [
    {
     "name": "stdout",
     "output_type": "stream",
     "text": [
      "[' Madrid Capital'] contains the most houses; there are 6643.0 in that population\n"
     ]
    }
   ],
   "source": [
    "quantities = np.empty(total_of_populations)\n",
    "all_populations = df['level5'].unique()\n",
    "\n",
    "for population in all_populations:\n",
    "    quantity = len(df[df['level5'] == population].index)\n",
    "    quantities[np.where(all_populations == population)] = quantity\n",
    "\n",
    "population_max_houses = np.array([all_populations[np.where(quantities == quantities.max())], quantities.max()], dtype=object)\n",
    "print(f'{population_max_houses[0]} contains the most houses; there are {population_max_houses[1]} in that population')"
   ]
  }
 ],
 "metadata": {
  "kernelspec": {
   "display_name": "Python 3.8.13 64-bit ('3.8.13')",
   "language": "python",
   "name": "python3"
  },
  "language_info": {
   "codemirror_mode": {
    "name": "ipython",
    "version": 3
   },
   "file_extension": ".py",
   "mimetype": "text/x-python",
   "name": "python",
   "nbconvert_exporter": "python",
   "pygments_lexer": "ipython3",
   "version": "3.8.13"
  },
  "vscode": {
   "interpreter": {
    "hash": "110cc1dee26208153f2972f08a2ad52b6a56238dc66d48e87fb757ef2996db56"
   }
  }
 },
 "nbformat": 4,
 "nbformat_minor": 5
}
